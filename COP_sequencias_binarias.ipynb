{
  "nbformat": 4,
  "nbformat_minor": 0,
  "metadata": {
    "colab": {
      "provenance": [],
      "authorship_tag": "ABX9TyO8fOTA4X0mDe2DikUpsbiZ",
      "include_colab_link": true
    },
    "kernelspec": {
      "name": "python3",
      "display_name": "Python 3"
    },
    "language_info": {
      "name": "python"
    }
  },
  "cells": [
    {
      "cell_type": "markdown",
      "metadata": {
        "id": "view-in-github",
        "colab_type": "text"
      },
      "source": [
        "<a href=\"https://colab.research.google.com/github/LucioFassarella/QCOP/blob/main/COP_sequencias_binarias.ipynb\" target=\"_parent\"><img src=\"https://colab.research.google.com/assets/colab-badge.svg\" alt=\"Open In Colab\"/></a>"
      ]
    },
    {
      "cell_type": "code",
      "source": [
        "def sequencias_binarias(n = \"int\"):\n",
        "    '''\n",
        "    Função que contrói o conjunto das sequências binárias com n termos.\n",
        "\n",
        "    Entrada:\n",
        "        n: tipo = inteiro: --> número de termos.\n",
        "\n",
        "    Saída:\n",
        "        Z_n: tipo = lista --> sequências binárias com n termos.\n",
        "\n",
        "    Métodos:\n",
        "        copy(): < https://docs.python.org/3/library/copy.html >\n",
        "        list.append(): < https://docs.python.org/3/tutorial/datastructures.html >\n",
        "    '''\n",
        "    # Métodos\n",
        "\n",
        "    from copy import deepcopy as dcopy\n",
        "\n",
        "    # Condição\n",
        "\n",
        "    if type(n) != int or n <= 0:\n",
        "        print(\"ERRO: A entrada deve ser um inteiro positivo.\")\n",
        "        return []\n",
        "\n",
        "    # Loop\n",
        "\n",
        "\n",
        "    else:\n",
        "        if n == 1:\n",
        "            Z_n = [[0], [1]]\n",
        "\n",
        "        else:\n",
        "            sequencias = sequencias_binarias(n - 1)\n",
        "            sequencias_0 = dcopy(sequencias)\n",
        "            sequencias_1 = dcopy(sequencias)\n",
        "            for sequencia in sequencias_0:\n",
        "                    sequencia.insert(0,0)\n",
        "            for sequencia in sequencias_1:\n",
        "                    sequencia.insert(0,1)\n",
        "            Z_n = sequencias_0 + sequencias_1\n",
        "        return Z_n"
      ],
      "metadata": {
        "id": "vHU0ROyuKQBC"
      },
      "execution_count": 138,
      "outputs": []
    },
    {
      "cell_type": "code",
      "source": [
        "# Testes\n",
        "\n",
        "# sequencias_binarias\n",
        "\n",
        "n = -1\n",
        "Zn = sequencias_binarias(n)\n",
        "print(f\"#Z({n}) = 2**{n} = {len(Zn)}; Z({n}) = {Zn}.\")\n",
        "\n",
        "n = 0\n",
        "Zn = sequencias_binarias(n)\n",
        "print(f\"#Z({n}) = 2**{n} = {len(Zn)}; Z({n}) = {Zn}.\")\n",
        "\n",
        "n = 1\n",
        "Zn = sequencias_binarias(n)\n",
        "print(f\"#Z({n}) = 2**{n} = {len(Zn)}; Z({n}) = {Zn}.\")\n",
        "\n",
        "n = 2\n",
        "Zn = sequencias_binarias(n)\n",
        "print(f\"#Z({n}) = 2**{n} = {len(Zn)}; Z({n}) = {Zn}.\")\n",
        "\n",
        "n = 3\n",
        "Zn = sequencias_binarias(n)\n",
        "print(f\"#Z({n}) = 2**{n} = {len(Zn)}; Z({n}) = {Zn}.\")"
      ],
      "metadata": {
        "colab": {
          "base_uri": "https://localhost:8080/"
        },
        "id": "7yR5QZa8iZGS",
        "outputId": "fdb5f7d9-4a75-4076-9e8b-f24c469fb032"
      },
      "execution_count": 140,
      "outputs": [
        {
          "output_type": "stream",
          "name": "stdout",
          "text": [
            "ERRO: A entrada deve ser um inteiro positivo.\n",
            "#Z(-1) = 2**-1 = 0; Z(-1) = [].\n",
            "ERRO: A entrada deve ser um inteiro positivo.\n",
            "#Z(0) = 2**0 = 0; Z(0) = [].\n",
            "#Z(1) = 2**1 = 2; Z(1) = [[0], [1]].\n",
            "#Z(2) = 2**2 = 4; Z(2) = [[0, 0], [0, 1], [1, 0], [1, 1]].\n",
            "#Z(3) = 2**3 = 8; Z(3) = [[0, 0, 0], [0, 0, 1], [0, 1, 0], [0, 1, 1], [1, 0, 0], [1, 0, 1], [1, 1, 0], [1, 1, 1]].\n"
          ]
        }
      ]
    },
    {
      "cell_type": "code",
      "source": [],
      "metadata": {
        "id": "SDHwbPrQeH3N"
      },
      "execution_count": null,
      "outputs": []
    }
  ]
}