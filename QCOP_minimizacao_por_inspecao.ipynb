{
  "nbformat": 4,
  "nbformat_minor": 0,
  "metadata": {
    "colab": {
      "provenance": [],
      "collapsed_sections": [
        "GAmPTeyasyVt"
      ],
      "authorship_tag": "ABX9TyP3BmRP4CvfC65ihSvieXsc",
      "include_colab_link": true
    },
    "kernelspec": {
      "name": "python3",
      "display_name": "Python 3"
    },
    "language_info": {
      "name": "python"
    }
  },
  "cells": [
    {
      "cell_type": "markdown",
      "metadata": {
        "id": "view-in-github",
        "colab_type": "text"
      },
      "source": [
        "<a href=\"https://colab.research.google.com/github/LucioFassarella/QCOP/blob/main/QCOP_minimizacao_por_inspecao.ipynb\" target=\"_parent\"><img src=\"https://colab.research.google.com/assets/colab-badge.svg\" alt=\"Open In Colab\"/></a>"
      ]
    },
    {
      "cell_type": "markdown",
      "source": [
        "# QISKIT: Carregamento"
      ],
      "metadata": {
        "id": "GAmPTeyasyVt"
      }
    },
    {
      "cell_type": "code",
      "source": [
        "!pip install qiskit -U\n",
        "!pip install qiskit_aer -U\n",
        "!pip install qiskit-ibm-runtime -U\n",
        "\n",
        "!pip install matplotlib\n",
        "!pip install pylatexenc\n",
        "\n",
        "import qiskit\n",
        "qiskit.__version__"
      ],
      "metadata": {
        "id": "U7ULPmZkugwv",
        "colab": {
          "base_uri": "https://localhost:8080/",
          "height": 1000
        },
        "outputId": "6a50cb17-33b1-4dbd-a8e5-5c10bd08be3a",
        "collapsed": true
      },
      "execution_count": 1,
      "outputs": [
        {
          "output_type": "stream",
          "name": "stdout",
          "text": [
            "Collecting qiskit\n",
            "  Downloading qiskit-2.1.0-cp39-abi3-manylinux_2_17_x86_64.manylinux2014_x86_64.whl.metadata (12 kB)\n",
            "Collecting rustworkx>=0.15.0 (from qiskit)\n",
            "  Downloading rustworkx-0.16.0-cp39-abi3-manylinux_2_17_x86_64.manylinux2014_x86_64.whl.metadata (10 kB)\n",
            "Requirement already satisfied: numpy<3,>=1.17 in /usr/local/lib/python3.11/dist-packages (from qiskit) (2.0.2)\n",
            "Requirement already satisfied: scipy>=1.5 in /usr/local/lib/python3.11/dist-packages (from qiskit) (1.15.3)\n",
            "Requirement already satisfied: dill>=0.3 in /usr/local/lib/python3.11/dist-packages (from qiskit) (0.3.7)\n",
            "Collecting stevedore>=3.0.0 (from qiskit)\n",
            "  Downloading stevedore-5.4.1-py3-none-any.whl.metadata (2.3 kB)\n",
            "Requirement already satisfied: typing-extensions in /usr/local/lib/python3.11/dist-packages (from qiskit) (4.14.0)\n",
            "Collecting pbr>=2.0.0 (from stevedore>=3.0.0->qiskit)\n",
            "  Downloading pbr-6.1.1-py2.py3-none-any.whl.metadata (3.4 kB)\n",
            "Requirement already satisfied: setuptools in /usr/local/lib/python3.11/dist-packages (from pbr>=2.0.0->stevedore>=3.0.0->qiskit) (75.2.0)\n",
            "Downloading qiskit-2.1.0-cp39-abi3-manylinux_2_17_x86_64.manylinux2014_x86_64.whl (7.5 MB)\n",
            "\u001b[2K   \u001b[90m━━━━━━━━━━━━━━━━━━━━━━━━━━━━━━━━━━━━━━━━\u001b[0m \u001b[32m7.5/7.5 MB\u001b[0m \u001b[31m29.5 MB/s\u001b[0m eta \u001b[36m0:00:00\u001b[0m\n",
            "\u001b[?25hDownloading rustworkx-0.16.0-cp39-abi3-manylinux_2_17_x86_64.manylinux2014_x86_64.whl (2.1 MB)\n",
            "\u001b[2K   \u001b[90m━━━━━━━━━━━━━━━━━━━━━━━━━━━━━━━━━━━━━━━━\u001b[0m \u001b[32m2.1/2.1 MB\u001b[0m \u001b[31m36.1 MB/s\u001b[0m eta \u001b[36m0:00:00\u001b[0m\n",
            "\u001b[?25hDownloading stevedore-5.4.1-py3-none-any.whl (49 kB)\n",
            "\u001b[2K   \u001b[90m━━━━━━━━━━━━━━━━━━━━━━━━━━━━━━━━━━━━━━━━\u001b[0m \u001b[32m49.5/49.5 kB\u001b[0m \u001b[31m3.8 MB/s\u001b[0m eta \u001b[36m0:00:00\u001b[0m\n",
            "\u001b[?25hDownloading pbr-6.1.1-py2.py3-none-any.whl (108 kB)\n",
            "\u001b[2K   \u001b[90m━━━━━━━━━━━━━━━━━━━━━━━━━━━━━━━━━━━━━━━━\u001b[0m \u001b[32m109.0/109.0 kB\u001b[0m \u001b[31m6.9 MB/s\u001b[0m eta \u001b[36m0:00:00\u001b[0m\n",
            "\u001b[?25hInstalling collected packages: rustworkx, pbr, stevedore, qiskit\n",
            "Successfully installed pbr-6.1.1 qiskit-2.1.0 rustworkx-0.16.0 stevedore-5.4.1\n",
            "Collecting qiskit_aer\n",
            "  Downloading qiskit_aer-0.17.1-cp311-cp311-manylinux_2_17_x86_64.manylinux2014_x86_64.whl.metadata (8.3 kB)\n",
            "Requirement already satisfied: qiskit>=1.1.0 in /usr/local/lib/python3.11/dist-packages (from qiskit_aer) (2.1.0)\n",
            "Requirement already satisfied: numpy>=1.16.3 in /usr/local/lib/python3.11/dist-packages (from qiskit_aer) (2.0.2)\n",
            "Requirement already satisfied: scipy>=1.0 in /usr/local/lib/python3.11/dist-packages (from qiskit_aer) (1.15.3)\n",
            "Requirement already satisfied: psutil>=5 in /usr/local/lib/python3.11/dist-packages (from qiskit_aer) (5.9.5)\n",
            "Requirement already satisfied: python-dateutil>=2.8.0 in /usr/local/lib/python3.11/dist-packages (from qiskit_aer) (2.9.0.post0)\n",
            "Requirement already satisfied: six>=1.5 in /usr/local/lib/python3.11/dist-packages (from python-dateutil>=2.8.0->qiskit_aer) (1.17.0)\n",
            "Requirement already satisfied: rustworkx>=0.15.0 in /usr/local/lib/python3.11/dist-packages (from qiskit>=1.1.0->qiskit_aer) (0.16.0)\n",
            "Requirement already satisfied: dill>=0.3 in /usr/local/lib/python3.11/dist-packages (from qiskit>=1.1.0->qiskit_aer) (0.3.7)\n",
            "Requirement already satisfied: stevedore>=3.0.0 in /usr/local/lib/python3.11/dist-packages (from qiskit>=1.1.0->qiskit_aer) (5.4.1)\n",
            "Requirement already satisfied: typing-extensions in /usr/local/lib/python3.11/dist-packages (from qiskit>=1.1.0->qiskit_aer) (4.14.0)\n",
            "Requirement already satisfied: pbr>=2.0.0 in /usr/local/lib/python3.11/dist-packages (from stevedore>=3.0.0->qiskit>=1.1.0->qiskit_aer) (6.1.1)\n",
            "Requirement already satisfied: setuptools in /usr/local/lib/python3.11/dist-packages (from pbr>=2.0.0->stevedore>=3.0.0->qiskit>=1.1.0->qiskit_aer) (75.2.0)\n",
            "Downloading qiskit_aer-0.17.1-cp311-cp311-manylinux_2_17_x86_64.manylinux2014_x86_64.whl (12.4 MB)\n",
            "\u001b[2K   \u001b[90m━━━━━━━━━━━━━━━━━━━━━━━━━━━━━━━━━━━━━━━━\u001b[0m \u001b[32m12.4/12.4 MB\u001b[0m \u001b[31m103.0 MB/s\u001b[0m eta \u001b[36m0:00:00\u001b[0m\n",
            "\u001b[?25hInstalling collected packages: qiskit_aer\n",
            "Successfully installed qiskit_aer-0.17.1\n",
            "Collecting qiskit-ibm-runtime\n",
            "  Downloading qiskit_ibm_runtime-0.40.1-py3-none-any.whl.metadata (21 kB)\n",
            "Requirement already satisfied: requests>=2.19 in /usr/local/lib/python3.11/dist-packages (from qiskit-ibm-runtime) (2.32.3)\n",
            "Collecting requests-ntlm>=1.1.0 (from qiskit-ibm-runtime)\n",
            "  Downloading requests_ntlm-1.3.0-py3-none-any.whl.metadata (2.4 kB)\n",
            "Requirement already satisfied: numpy>=1.13 in /usr/local/lib/python3.11/dist-packages (from qiskit-ibm-runtime) (2.0.2)\n",
            "Requirement already satisfied: urllib3>=1.21.1 in /usr/local/lib/python3.11/dist-packages (from qiskit-ibm-runtime) (2.4.0)\n",
            "Requirement already satisfied: python-dateutil>=2.8.0 in /usr/local/lib/python3.11/dist-packages (from qiskit-ibm-runtime) (2.9.0.post0)\n",
            "Collecting ibm-platform-services>=0.22.6 (from qiskit-ibm-runtime)\n",
            "  Downloading ibm_platform_services-0.66.2-py3-none-any.whl.metadata (9.0 kB)\n",
            "Requirement already satisfied: pydantic>=2.5.0 in /usr/local/lib/python3.11/dist-packages (from qiskit-ibm-runtime) (2.11.7)\n",
            "Requirement already satisfied: qiskit>=1.4.1 in /usr/local/lib/python3.11/dist-packages (from qiskit-ibm-runtime) (2.1.0)\n",
            "Requirement already satisfied: packaging in /usr/local/lib/python3.11/dist-packages (from qiskit-ibm-runtime) (24.2)\n",
            "Collecting ibm_cloud_sdk_core<4.0.0,>=3.24.2 (from ibm-platform-services>=0.22.6->qiskit-ibm-runtime)\n",
            "  Downloading ibm_cloud_sdk_core-3.24.2-py3-none-any.whl.metadata (8.7 kB)\n",
            "Requirement already satisfied: annotated-types>=0.6.0 in /usr/local/lib/python3.11/dist-packages (from pydantic>=2.5.0->qiskit-ibm-runtime) (0.7.0)\n",
            "Requirement already satisfied: pydantic-core==2.33.2 in /usr/local/lib/python3.11/dist-packages (from pydantic>=2.5.0->qiskit-ibm-runtime) (2.33.2)\n",
            "Requirement already satisfied: typing-extensions>=4.12.2 in /usr/local/lib/python3.11/dist-packages (from pydantic>=2.5.0->qiskit-ibm-runtime) (4.14.0)\n",
            "Requirement already satisfied: typing-inspection>=0.4.0 in /usr/local/lib/python3.11/dist-packages (from pydantic>=2.5.0->qiskit-ibm-runtime) (0.4.1)\n",
            "Requirement already satisfied: six>=1.5 in /usr/local/lib/python3.11/dist-packages (from python-dateutil>=2.8.0->qiskit-ibm-runtime) (1.17.0)\n",
            "Requirement already satisfied: rustworkx>=0.15.0 in /usr/local/lib/python3.11/dist-packages (from qiskit>=1.4.1->qiskit-ibm-runtime) (0.16.0)\n",
            "Requirement already satisfied: scipy>=1.5 in /usr/local/lib/python3.11/dist-packages (from qiskit>=1.4.1->qiskit-ibm-runtime) (1.15.3)\n",
            "Requirement already satisfied: dill>=0.3 in /usr/local/lib/python3.11/dist-packages (from qiskit>=1.4.1->qiskit-ibm-runtime) (0.3.7)\n",
            "Requirement already satisfied: stevedore>=3.0.0 in /usr/local/lib/python3.11/dist-packages (from qiskit>=1.4.1->qiskit-ibm-runtime) (5.4.1)\n",
            "Requirement already satisfied: charset-normalizer<4,>=2 in /usr/local/lib/python3.11/dist-packages (from requests>=2.19->qiskit-ibm-runtime) (3.4.2)\n",
            "Requirement already satisfied: idna<4,>=2.5 in /usr/local/lib/python3.11/dist-packages (from requests>=2.19->qiskit-ibm-runtime) (3.10)\n",
            "Requirement already satisfied: certifi>=2017.4.17 in /usr/local/lib/python3.11/dist-packages (from requests>=2.19->qiskit-ibm-runtime) (2025.6.15)\n",
            "Requirement already satisfied: cryptography>=1.3 in /usr/local/lib/python3.11/dist-packages (from requests-ntlm>=1.1.0->qiskit-ibm-runtime) (43.0.3)\n",
            "Collecting pyspnego>=0.4.0 (from requests-ntlm>=1.1.0->qiskit-ibm-runtime)\n",
            "  Downloading pyspnego-0.11.2-py3-none-any.whl.metadata (5.4 kB)\n",
            "Requirement already satisfied: cffi>=1.12 in /usr/local/lib/python3.11/dist-packages (from cryptography>=1.3->requests-ntlm>=1.1.0->qiskit-ibm-runtime) (1.17.1)\n",
            "Collecting requests>=2.19 (from qiskit-ibm-runtime)\n",
            "  Downloading requests-2.32.4-py3-none-any.whl.metadata (4.9 kB)\n",
            "Requirement already satisfied: PyJWT<3.0.0,>=2.10.1 in /usr/local/lib/python3.11/dist-packages (from ibm_cloud_sdk_core<4.0.0,>=3.24.2->ibm-platform-services>=0.22.6->qiskit-ibm-runtime) (2.10.1)\n",
            "Requirement already satisfied: pbr>=2.0.0 in /usr/local/lib/python3.11/dist-packages (from stevedore>=3.0.0->qiskit>=1.4.1->qiskit-ibm-runtime) (6.1.1)\n",
            "Requirement already satisfied: pycparser in /usr/local/lib/python3.11/dist-packages (from cffi>=1.12->cryptography>=1.3->requests-ntlm>=1.1.0->qiskit-ibm-runtime) (2.22)\n",
            "Requirement already satisfied: setuptools in /usr/local/lib/python3.11/dist-packages (from pbr>=2.0.0->stevedore>=3.0.0->qiskit>=1.4.1->qiskit-ibm-runtime) (75.2.0)\n",
            "Downloading qiskit_ibm_runtime-0.40.1-py3-none-any.whl (3.2 MB)\n",
            "\u001b[2K   \u001b[90m━━━━━━━━━━━━━━━━━━━━━━━━━━━━━━━━━━━━━━━━\u001b[0m \u001b[32m3.2/3.2 MB\u001b[0m \u001b[31m78.6 MB/s\u001b[0m eta \u001b[36m0:00:00\u001b[0m\n",
            "\u001b[?25hDownloading ibm_platform_services-0.66.2-py3-none-any.whl (363 kB)\n",
            "\u001b[2K   \u001b[90m━━━━━━━━━━━━━━━━━━━━━━━━━━━━━━━━━━━━━━━━\u001b[0m \u001b[32m363.9/363.9 kB\u001b[0m \u001b[31m25.6 MB/s\u001b[0m eta \u001b[36m0:00:00\u001b[0m\n",
            "\u001b[?25hDownloading requests_ntlm-1.3.0-py3-none-any.whl (6.6 kB)\n",
            "Downloading ibm_cloud_sdk_core-3.24.2-py3-none-any.whl (75 kB)\n",
            "\u001b[2K   \u001b[90m━━━━━━━━━━━━━━━━━━━━━━━━━━━━━━━━━━━━━━━━\u001b[0m \u001b[32m75.8/75.8 kB\u001b[0m \u001b[31m6.2 MB/s\u001b[0m eta \u001b[36m0:00:00\u001b[0m\n",
            "\u001b[?25hDownloading requests-2.32.4-py3-none-any.whl (64 kB)\n",
            "\u001b[2K   \u001b[90m━━━━━━━━━━━━━━━━━━━━━━━━━━━━━━━━━━━━━━━━\u001b[0m \u001b[32m64.8/64.8 kB\u001b[0m \u001b[31m5.4 MB/s\u001b[0m eta \u001b[36m0:00:00\u001b[0m\n",
            "\u001b[?25hDownloading pyspnego-0.11.2-py3-none-any.whl (130 kB)\n",
            "\u001b[2K   \u001b[90m━━━━━━━━━━━━━━━━━━━━━━━━━━━━━━━━━━━━━━━━\u001b[0m \u001b[32m130.5/130.5 kB\u001b[0m \u001b[31m10.3 MB/s\u001b[0m eta \u001b[36m0:00:00\u001b[0m\n",
            "\u001b[?25hInstalling collected packages: requests, ibm_cloud_sdk_core, pyspnego, ibm-platform-services, requests-ntlm, qiskit-ibm-runtime\n",
            "  Attempting uninstall: requests\n",
            "    Found existing installation: requests 2.32.3\n",
            "    Uninstalling requests-2.32.3:\n",
            "      Successfully uninstalled requests-2.32.3\n",
            "\u001b[31mERROR: pip's dependency resolver does not currently take into account all the packages that are installed. This behaviour is the source of the following dependency conflicts.\n",
            "google-colab 1.0.0 requires requests==2.32.3, but you have requests 2.32.4 which is incompatible.\u001b[0m\u001b[31m\n",
            "\u001b[0mSuccessfully installed ibm-platform-services-0.66.2 ibm_cloud_sdk_core-3.24.2 pyspnego-0.11.2 qiskit-ibm-runtime-0.40.1 requests-2.32.4 requests-ntlm-1.3.0\n",
            "Requirement already satisfied: matplotlib in /usr/local/lib/python3.11/dist-packages (3.10.0)\n",
            "Requirement already satisfied: contourpy>=1.0.1 in /usr/local/lib/python3.11/dist-packages (from matplotlib) (1.3.2)\n",
            "Requirement already satisfied: cycler>=0.10 in /usr/local/lib/python3.11/dist-packages (from matplotlib) (0.12.1)\n",
            "Requirement already satisfied: fonttools>=4.22.0 in /usr/local/lib/python3.11/dist-packages (from matplotlib) (4.58.4)\n",
            "Requirement already satisfied: kiwisolver>=1.3.1 in /usr/local/lib/python3.11/dist-packages (from matplotlib) (1.4.8)\n",
            "Requirement already satisfied: numpy>=1.23 in /usr/local/lib/python3.11/dist-packages (from matplotlib) (2.0.2)\n",
            "Requirement already satisfied: packaging>=20.0 in /usr/local/lib/python3.11/dist-packages (from matplotlib) (24.2)\n",
            "Requirement already satisfied: pillow>=8 in /usr/local/lib/python3.11/dist-packages (from matplotlib) (11.2.1)\n",
            "Requirement already satisfied: pyparsing>=2.3.1 in /usr/local/lib/python3.11/dist-packages (from matplotlib) (3.2.3)\n",
            "Requirement already satisfied: python-dateutil>=2.7 in /usr/local/lib/python3.11/dist-packages (from matplotlib) (2.9.0.post0)\n",
            "Requirement already satisfied: six>=1.5 in /usr/local/lib/python3.11/dist-packages (from python-dateutil>=2.7->matplotlib) (1.17.0)\n",
            "Collecting pylatexenc\n",
            "  Downloading pylatexenc-2.10.tar.gz (162 kB)\n",
            "\u001b[2K     \u001b[90m━━━━━━━━━━━━━━━━━━━━━━━━━━━━━━━━━━━━━━\u001b[0m \u001b[32m162.6/162.6 kB\u001b[0m \u001b[31m10.4 MB/s\u001b[0m eta \u001b[36m0:00:00\u001b[0m\n",
            "\u001b[?25h  Preparing metadata (setup.py) ... \u001b[?25l\u001b[?25hdone\n",
            "Building wheels for collected packages: pylatexenc\n",
            "  Building wheel for pylatexenc (setup.py) ... \u001b[?25l\u001b[?25hdone\n",
            "  Created wheel for pylatexenc: filename=pylatexenc-2.10-py3-none-any.whl size=136817 sha256=f3f8d396fa87d46c009f6a36dff12e2df86a2da4e2906853733309a9c2d94074\n",
            "  Stored in directory: /root/.cache/pip/wheels/b1/7a/33/9fdd892f784ed4afda62b685ae3703adf4c91aa0f524c28f03\n",
            "Successfully built pylatexenc\n",
            "Installing collected packages: pylatexenc\n",
            "Successfully installed pylatexenc-2.10\n"
          ]
        },
        {
          "output_type": "execute_result",
          "data": {
            "text/plain": [
              "'2.1.0'"
            ],
            "application/vnd.google.colaboratory.intrinsic+json": {
              "type": "string"
            }
          },
          "metadata": {},
          "execution_count": 1
        }
      ]
    },
    {
      "cell_type": "code",
      "source": [
        "# Qiskit: métodos básicos\n",
        "\n",
        "from qiskit import QuantumCircuit, ClassicalRegister, QuantumRegister\n",
        "\n",
        "from qiskit import transpile\n",
        "\n",
        "from qiskit.visualization import plot_histogram, array_to_latex, plot_state_city"
      ],
      "metadata": {
        "id": "9L6AJpSGOM09"
      },
      "execution_count": 2,
      "outputs": []
    },
    {
      "cell_type": "markdown",
      "source": [
        "# Problemas de Otimização Combinatória: Hamiltoniano\n",
        "\n",
        "Espaço das sequências binárias com $n \\in \\mathbb{N}$ termos:\n",
        "\n",
        "$$\n",
        "\\mathcal{Z}(n) = \\left\\{(z_{0}, \\dots, z_{n-1});\\ z_0, \\dots, z_{n-1} \\in \\left\\{0,1\\right\\}\\right\\}.\n",
        "$$\n",
        "\n",
        "Função objetivo:\n",
        "\n",
        "$$\n",
        "C:S \\rightarrow \\mathbb{R},\\ \\ S \\subseteq \\mathcal{Z}(n).\n",
        "$$\n",
        "\n",
        "<!-- Para $z = (z_0,\\dots, z_{n-1}) \\in \\mathcal{Z}(n)$ vale:\n",
        "\n",
        "\\begin{equation*}\n",
        "\t\\begin{split}\n",
        "\t\t|z\\rangle \\langle z | &= |z_{n-1}\\rangle \\langle z_{n-1} |\\otimes \\dots \\otimes |z_0\\rangle \\langle z_0 |\\\\\n",
        "\t\t&= \\frac{I + (-1)^{z_{n-1}}Z_{n-1}}{2}\\otimes \\dots \\otimes \\frac{I + (-1)^{z_0}Z_{0}}{2}\\\\\n",
        "\t\t&= I + \\sum_{k=1}^n\\sum_{0 \\le j_1 < \\dots <j_k \\le n-1}%\n",
        "\t\t(-1)^{z_{j_1} + \\dots + z_{j_k}}Z_{j_1} \\dots Z_{j_k}.\n",
        "\t\\end{split}\n",
        "\\end{equation*}\n",
        "-->\n",
        "\n",
        "Hamiltoniano em termos dos operadores de Pauli é dada por:\n",
        "\n",
        "\\begin{equation}\n",
        "\t\\begin{split}\n",
        "\t\tH_C &= \\sum_{z \\in S}C(z)|z\\rangle \\langle z |\\\\\n",
        "\t\t&= \\frac{1}{2^n}\\sum_{z \\in S}C(z)%\n",
        "\t\t\\left\\lbrack I + \\sum_{k=0}^{n-1}\\sum_{0 \\le j_0 < \\dots <j_k \\le n-1}%\n",
        "\t\t(-1)^{z_{j_1} + \\dots + z_{j_k}}Z_{j_1} \\dots Z_{j_k}\n",
        "\t\t\\right\\rbrack.\n",
        "\t\\end{split}\n",
        "\\end{equation}"
      ],
      "metadata": {
        "id": "vyhlFq4wbdHH"
      }
    },
    {
      "cell_type": "code",
      "source": [
        "def funcao_Hamiltoniano(n = \"int\", C = \"function\", S = \"None\"):\n",
        "    '''\n",
        "    Função que constrói o Hamiltoniano em termos dos operadores de Pauli.\n",
        "\n",
        "    Entrada:\n",
        "        n: tipo = inteiro: --> número de termos.\n",
        "        C: tipo = função: --> função objetivo.\n",
        "        S: tipo = lista: --> subconjunto das sequências binárias com n termos.\n",
        "\n",
        "    Saída:\n",
        "        H_C: tipo = lista --> Hamiltoniano em termos dos operadores de Pauli.\n",
        "\n",
        "    Métodos:\n",
        "        inspect.isfunction(): < https://docs.python.org/3/library/inspect.html >\n",
        "        copy(): < https://docs.python.org/3/library/copy.html >\n",
        "        itertools.combinations(): < https://docs.python.org/3/library/itertools.html >\n",
        "        SparsePauliOp: < https://quantum.cloud.ibm.com/docs/en/api/qiskit/qiskit.quantum_info.SparsePauliOp >\n",
        "\n",
        "    Funções:\n",
        "        sequencias_binarias(n = \"int\"): --> lista de todas as sequências binárias com n termos.\n",
        "    '''\n",
        "\n",
        "    # Métodos\n",
        "\n",
        "    from qiskit.quantum_info import SparsePauliOp\n",
        "    from copy import deepcopy as dcopy\n",
        "    import inspect\n",
        "\n",
        "    # Condições\n",
        "\n",
        "    if type(n) != int or n <= 0:\n",
        "        print(\"ERRO: A entrada deve ser um inteiro positivo.\")\n",
        "        return []\n",
        "\n",
        "    if inspect.isfunction(C) == False:\n",
        "        print(\"ERRO: A entrada deve ser uma função definida em sequências binárias.\")\n",
        "        return []\n",
        "\n",
        "    if S != \"None\":\n",
        "        if type(S) != list:\n",
        "            print(\"ERRO: A entrada deve ser nada ou uma lista de sequências binárias.\")\n",
        "            return []\n",
        "\n",
        "    # Construção de HC\n",
        "\n",
        "    if S == \"None\":\n",
        "        sequencias = funcao_SequenciasBinarias(n)\n",
        "    else:\n",
        "        sequencias = dcopy(S)\n",
        "\n",
        "    for sequencia in sequencias:\n",
        "        sequencia.reverse()\n",
        "\n",
        "    indices = funcao_Subsequencias([k for k in range(n)])\n",
        "\n",
        "    operadores = []\n",
        "\n",
        "    for sequencia in sequencias:\n",
        "        coeficiente = C(sequencia)/2**n\n",
        "\n",
        "        if coeficiente == 0:\n",
        "            pass\n",
        "\n",
        "        else:\n",
        "            operadores.append((\"I\", [0] , coeficiente))\n",
        "\n",
        "            for indice in indices:\n",
        "                sinal = (-1)**sum(sequencia[j] for j in indice)\n",
        "                operadores.append((len(sequencia)*\"Z\", indice , sinal*coeficiente))\n",
        "\n",
        "    H_C = SparsePauliOp.from_sparse_list(operadores, num_qubits=n)\n",
        "\n",
        "    return H_C"
      ],
      "metadata": {
        "id": "g5n4IbtaUwiI"
      },
      "execution_count": 3,
      "outputs": []
    },
    {
      "cell_type": "code",
      "source": [
        "def funcao_SequenciasBinarias(n = \"int\"):\n",
        "    '''\n",
        "    Função que contrói o conjunto das sequências binárias com n termos.\n",
        "\n",
        "    Entrada:\n",
        "        n: tipo = inteiro: --> número de termos.\n",
        "\n",
        "    Saída:\n",
        "        Z_n: tipo = lista --> sequências binárias com n termos.\n",
        "\n",
        "    Métodos:\n",
        "        copy(): < https://docs.python.org/3/library/copy.html >\n",
        "    '''\n",
        "    # Métodos\n",
        "\n",
        "    from copy import deepcopy as dcopy\n",
        "\n",
        "    # Condição\n",
        "\n",
        "    if type(n) != int or n <= 0:\n",
        "        print(\"ERRO: A entrada deve ser um inteiro positivo.\")\n",
        "        return []\n",
        "\n",
        "    # Parte principal\n",
        "\n",
        "    if n == 1:\n",
        "        Z_n = [[0], [1]]\n",
        "\n",
        "    else:\n",
        "        sequencias = funcao_SequenciasBinarias(n - 1)\n",
        "        sequencias_0 = dcopy(sequencias)\n",
        "        sequencias_1 = dcopy(sequencias)\n",
        "        for sequencia in sequencias_0:\n",
        "                sequencia.insert(0,0)\n",
        "        for sequencia in sequencias_1:\n",
        "                sequencia.insert(0,1)\n",
        "        Z_n = sequencias_0 + sequencias_1\n",
        "    return Z_n"
      ],
      "metadata": {
        "id": "vHU0ROyuKQBC"
      },
      "execution_count": 4,
      "outputs": []
    },
    {
      "cell_type": "code",
      "source": [
        "def funcao_Subsequencias(sequencia):\n",
        "    '''\n",
        "    Função que constrói todas as subsequências de uma dada sequência.\n",
        "\n",
        "    Entrada:\n",
        "        sequencia: tipo = list --> sequência\n",
        "\n",
        "    Saída:\n",
        "        lista_subsequencias = list --> lista de todas as subsequências da sequência.\n",
        "\n",
        "    Métodos:\n",
        "        intertools.combinations(): < https://docs.python.org/3/library/itertools.html >\n",
        "\n",
        "    '''\n",
        "    # Método\n",
        "\n",
        "    from itertools import combinations\n",
        "\n",
        "    # Condições:\n",
        "\n",
        "    if type(sequencia) != list:\n",
        "        print(\"ERRO: A entrada deve ser uma lista.\")\n",
        "        return []\n",
        "\n",
        "    # Loop:\n",
        "\n",
        "    sublistas = []\n",
        "    for r in range(len(sequencia) + 1):\n",
        "        r_sublistas = [list(combo) for combo in combinations(sequencia, r)]\n",
        "        sublistas.extend(r_sublistas)\n",
        "    return sublistas[1:]"
      ],
      "metadata": {
        "id": "Pnk8gTsJcDuY"
      },
      "execution_count": 5,
      "outputs": []
    },
    {
      "cell_type": "code",
      "source": [
        "def funcao_EstadoBase(sequencia_binaria = list):\n",
        "    '''\n",
        "    Função que constrói o circuito que prepara o estado da base computacional com os bits dados.\n",
        "\n",
        "    Entrada:\n",
        "        sequencia_binaria: tipo = list --> lista de bits.\n",
        "\n",
        "    Saída:\n",
        "        circuito: tipo = QuantumCircuit --> circuito que prepara o estado da base computacional.\n",
        "\n",
        "    Métodos:\n",
        "        qiskit.circuit.QuantumCircuit(): < https://qiskit.org/documentation/stubs/qiskit.circuit.QuantumCircuit.html >\n",
        "\n",
        "    '''\n",
        "\n",
        "    # Métodos\n",
        "\n",
        "    from qiskit import QuantumCircuit\n",
        "\n",
        "    # Condições:\n",
        "\n",
        "    if type(sequencia_binaria) != list:\n",
        "        print(\"ERRO: A entrada deve ser uma lista de bits.\")\n",
        "        return []\n",
        "\n",
        "    # Principal\n",
        "\n",
        "    n = len(sequencia_binaria)\n",
        "\n",
        "    circuito = QuantumCircuit(n)\n",
        "\n",
        "    for i in range(n):\n",
        "        if sequencia_binaria[i] == 1:\n",
        "            circuito.x(i)\n",
        "\n",
        "    return circuito"
      ],
      "metadata": {
        "id": "dRjVcrlvgdMK"
      },
      "execution_count": 6,
      "outputs": []
    },
    {
      "cell_type": "code",
      "source": [
        "def funcao_Base(n = \"int\"):\n",
        "    '''\n",
        "    Função que constrói a lista dos circuitos que preparam os estados da base computacional de n qubits.\n",
        "\n",
        "    Entrada:\n",
        "        n: tipo = inteiro: --> número de qubits.\n",
        "\n",
        "    Saída:\n",
        "        lista_circuitos: tipo = list --> lista de circuitos que preparam estados da base computacional\n",
        "\n",
        "    Métodos:\n",
        "        qiskit.circuit.QuantumCircuit(): < https://qiskit.org/documentation/stubs/qiskit.circuit.QuantumCircuit.html >\n",
        "\n",
        "    Funções:\n",
        "        sequencias_binarias(n = \"int\"): --> lista de todas as sequências binárias com n termos.\n",
        "    '''\n",
        "\n",
        "    # Métodos\n",
        "\n",
        "    from qiskit import QuantumCircuit\n",
        "\n",
        "    # Condição\n",
        "\n",
        "    if type(n) != int or n <= 0:\n",
        "        print(\"ERRO: A entrada deve ser um inteiro positivo.\")\n",
        "        return []\n",
        "\n",
        "    # Principal\n",
        "\n",
        "    indices = funcao_SequenciasBinarias(n)\n",
        "\n",
        "    lista_circuitos = []\n",
        "\n",
        "    for indice in indices:\n",
        "        qc = QuantumCircuit(n)\n",
        "        for i in range(len(indice)):\n",
        "            if indice[i] == 1:\n",
        "                qc.x(i)\n",
        "        lista_circuitos.append(qc)\n",
        "\n",
        "    return lista_circuitos"
      ],
      "metadata": {
        "id": "o21cSFJBdzXK"
      },
      "execution_count": 7,
      "outputs": []
    },
    {
      "cell_type": "code",
      "source": [
        "def funcao_ValorEsperado(qc_estado, hamiltoniano, backend):\n",
        "    '''\n",
        "    Função que fornece o valor esperado de um operador (SparsePauliOp) em um estado (QuantumCircuit)\n",
        "    utilizando o EstimatorV2 do Qiskit Runtime para um backend específico.\n",
        "\n",
        "    Entradas:\n",
        "        estado: qiskit.QuantumCircuit()\n",
        "        hamiltoniano: qiskit.quantum_info.SparsePauliOp()\n",
        "        backend: qiskit.providers.backend.Backend()\n",
        "\n",
        "    Saída:\n",
        "        valor_esperado: float\n",
        "\n",
        "    Métodos:\n",
        "        qiskit_ibm_runtime.EstimatorV2():\n",
        "             < https://qiskit.org/ecosystem/ibm-runtime/stubs/qiskit_ibm_runtime.EstimatorV2.html >\n",
        "        qiskit.transpiler.preset_passmanagers.generate_preset_pass_manager():\n",
        "             < https://quantum.cloud.ibm.com/docs/en/api/qiskit/transpiler_preset >\n",
        "\n",
        "    '''\n",
        "\n",
        "    # Métodos\n",
        "\n",
        "    from qiskit_ibm_runtime import EstimatorV2 as Estimator\n",
        "    from qiskit.quantum_info import SparsePauliOp\n",
        "    from qiskit.transpiler.preset_passmanagers import generate_preset_pass_manager\n",
        "\n",
        "    # Condições:\n",
        "\n",
        "    if type(qc_estado) != QuantumCircuit:\n",
        "        print(\"ERRO: A entrada deve ser um circuito quântico que prepara um estado\")\n",
        "        return None\n",
        "\n",
        "    if type(hamiltoniano) != SparsePauliOp:\n",
        "        print(\"ERRO: A entrada deve ser um operador do tipo SparsePauliOp.\")\n",
        "        return None\n",
        "\n",
        "    if backend == None:\n",
        "        print(\"ERRO: A entrada deve ser um backend do qiskit.ibm.runtime.\")\n",
        "        return None\n",
        "\n",
        "    # Estimar\n",
        "\n",
        "    pm = generate_preset_pass_manager(backend=backend, optimization_level=1)\n",
        "\n",
        "    isa_estado = pm.run(qc_estado)\n",
        "    isa_hamiltoniano = hamiltoniano.apply_layout(isa_estado.layout)\n",
        "\n",
        "    estimator = Estimator(mode=backend)\n",
        "\n",
        "    job = estimator.run([(isa_estado, isa_hamiltoniano)]) # calcula [ < estado|hamiltoniano|estado > ]\n",
        "\n",
        "    pub_result = job.result()[0]\n",
        "\n",
        "    return pub_result.data.evs"
      ],
      "metadata": {
        "id": "N1yCwkckdoyt"
      },
      "execution_count": 8,
      "outputs": []
    },
    {
      "cell_type": "code",
      "source": [
        "def MinQCOP(n = \"int\", C = \"function\", backend = None):\n",
        "\n",
        "    '''\n",
        "\n",
        "    Função que constrói o Hamiltoniano em termos dos operadores de Pauli.\n",
        "\n",
        "    Entrada:\n",
        "        n: int --> número de termos.\n",
        "        C: function --> função objetivo.\n",
        "        S: list --> subconjunto das sequências binárias com n termos.\n",
        "        backend: qiskit.providers.backend.Backend()\n",
        "\n",
        "    Saída:\n",
        "        indice: list --> bits do estado da base computacional que minimiza o hamiltoniano de custo.\n",
        "        valor_esperado: float --> mínimo valor esperado do hamiltoniano de custo.\n",
        "\n",
        "    Métodos:\n",
        "        inspect.isfunction(): < https://docs.python.org/3/library/inspect.html >\n",
        "        copy(): < https://docs.python.org/3/library/copy.html >\n",
        "        itertools.combinations(): < https://docs.python.org/3/library/itertools.html >\n",
        "        SparsePauliOp: < https://quantum.cloud.ibm.com/docs/en/api/qiskit/qiskit.quantum_info.SparsePauliOp >\n",
        "\n",
        "    Funções:\n",
        "        sequencias_binarias(n = \"int\"): --> lista de todas as sequências binárias com n termos.\n",
        "\n",
        "    '''\n",
        "\n",
        "    # if S == \"None\":\n",
        "    #     sequencias = funcao_SequenciasBinarias(n)\n",
        "    # else:\n",
        "    #     sequencias = dcopy(S)\n",
        "\n",
        "    sequencias_binarias = funcao_SequenciasBinarias(n)\n",
        "\n",
        "    hamiltoniano = funcao_Hamiltoniano(n, C, sequencias_binarias)\n",
        "\n",
        "    if backend is None:\n",
        "        from qiskit_ibm_runtime.fake_provider import FakeWashingtonV2\n",
        "        backend = FakeWashingtonV2()\n",
        "\n",
        "\n",
        "    sequencias_minimais = [sequencias_binarias[0]]\n",
        "    estado = funcao_EstadoBase(sequencias_minimais[0])\n",
        "    valor_esperado_minimal = funcao_ValorEsperado(estado, hamiltoniano, backend)\n",
        "\n",
        "    for seq in sequencias_binarias:\n",
        "        estado = funcao_EstadoBase(seq)\n",
        "        valor_esperado = funcao_ValorEsperado(estado, hamiltoniano, backend)\n",
        "        if valor_esperado == valor_esperado_minimal:\n",
        "            sequencias_minimais.append(seq)\n",
        "        if valor_esperado < valor_esperado_minimal:\n",
        "            sequencias_minimais = [seq]\n",
        "            valor_esperado_minimal = valor_esperado\n",
        "\n",
        "    return sequencias_minimais, valor_esperado_minimal"
      ],
      "metadata": {
        "id": "u4DX_oR4YN3-"
      },
      "execution_count": 10,
      "outputs": []
    },
    {
      "cell_type": "markdown",
      "source": [
        "# Testes"
      ],
      "metadata": {
        "id": "p-AKBrNcEOQr"
      }
    },
    {
      "cell_type": "code",
      "source": [
        "# Teste da função SequenciasBinarias():\n",
        "\n",
        "sequencias_exemplo = funcao_SequenciasBinarias(3)\n",
        "print(f\"Sequências binárias de 3 termos: {sequencias_exemplo}\")"
      ],
      "metadata": {
        "colab": {
          "base_uri": "https://localhost:8080/"
        },
        "id": "H11Q7cJ7Ex-a",
        "outputId": "cc5d7284-3d55-4f79-ab9d-0142700bd2eb"
      },
      "execution_count": 11,
      "outputs": [
        {
          "output_type": "stream",
          "name": "stdout",
          "text": [
            "Sequências binárias de 3 termos: [[0, 0, 0], [0, 0, 1], [0, 1, 0], [0, 1, 1], [1, 0, 0], [1, 0, 1], [1, 1, 0], [1, 1, 1]]\n"
          ]
        }
      ]
    },
    {
      "cell_type": "code",
      "source": [
        "# Teste da função Subsequencias():\n",
        "\n",
        "sequencia_exemplo = [1, 2, 3]\n",
        "sub_sequencias = funcao_Subsequencias(sequencia_exemplo)\n",
        "print(f\"Sequência: {sequencia_exemplo}\")\n",
        "print(f\"Subsequências: {sub_sequencias}\")"
      ],
      "metadata": {
        "colab": {
          "base_uri": "https://localhost:8080/"
        },
        "id": "phdZkrfhEPvT",
        "outputId": "e3baf0ab-5a3e-46ee-dfe0-ac34f79fbf5d"
      },
      "execution_count": 12,
      "outputs": [
        {
          "output_type": "stream",
          "name": "stdout",
          "text": [
            "Sequência: [1, 2, 3]\n",
            "Subsequências: [[1], [2], [3], [1, 2], [1, 3], [2, 3], [1, 2, 3]]\n"
          ]
        }
      ]
    },
    {
      "cell_type": "code",
      "source": [
        "# Teste da função Hamiltoniano():\n",
        "\n",
        "def C(x):\n",
        "    return sum(x)\n",
        "\n",
        "S = funcao_SequenciasBinarias(3)\n",
        "H = funcao_Hamiltoniano(3, C)\n",
        "print(H)"
      ],
      "metadata": {
        "colab": {
          "base_uri": "https://localhost:8080/"
        },
        "id": "5JkixXRkEo-i",
        "outputId": "5d790588-efda-4b0f-ef8e-b61984ee4b07"
      },
      "execution_count": 13,
      "outputs": [
        {
          "output_type": "stream",
          "name": "stdout",
          "text": [
            "SparsePauliOp(['III', 'IIZ', 'IZI', 'ZII', 'IZZ', 'ZIZ', 'ZZI', 'ZZZ', 'III', 'IIZ', 'IZI', 'ZII', 'IZZ', 'ZIZ', 'ZZI', 'ZZZ', 'III', 'IIZ', 'IZI', 'ZII', 'IZZ', 'ZIZ', 'ZZI', 'ZZZ', 'III', 'IIZ', 'IZI', 'ZII', 'IZZ', 'ZIZ', 'ZZI', 'ZZZ', 'III', 'IIZ', 'IZI', 'ZII', 'IZZ', 'ZIZ', 'ZZI', 'ZZZ', 'III', 'IIZ', 'IZI', 'ZII', 'IZZ', 'ZIZ', 'ZZI', 'ZZZ', 'III', 'IIZ', 'IZI', 'ZII', 'IZZ', 'ZIZ', 'ZZI', 'ZZZ'],\n",
            "              coeffs=[ 0.125+0.j, -0.125+0.j,  0.125+0.j,  0.125+0.j, -0.125+0.j, -0.125+0.j,\n",
            "  0.125+0.j, -0.125+0.j,  0.125+0.j,  0.125+0.j, -0.125+0.j,  0.125+0.j,\n",
            " -0.125+0.j,  0.125+0.j, -0.125+0.j, -0.125+0.j,  0.25 +0.j, -0.25 +0.j,\n",
            " -0.25 +0.j,  0.25 +0.j,  0.25 +0.j, -0.25 +0.j, -0.25 +0.j,  0.25 +0.j,\n",
            "  0.125+0.j,  0.125+0.j,  0.125+0.j, -0.125+0.j,  0.125+0.j, -0.125+0.j,\n",
            " -0.125+0.j, -0.125+0.j,  0.25 +0.j, -0.25 +0.j,  0.25 +0.j, -0.25 +0.j,\n",
            " -0.25 +0.j,  0.25 +0.j, -0.25 +0.j,  0.25 +0.j,  0.25 +0.j,  0.25 +0.j,\n",
            " -0.25 +0.j, -0.25 +0.j, -0.25 +0.j, -0.25 +0.j,  0.25 +0.j,  0.25 +0.j,\n",
            "  0.375+0.j, -0.375+0.j, -0.375+0.j, -0.375+0.j,  0.375+0.j,  0.375+0.j,\n",
            "  0.375+0.j, -0.375+0.j])\n"
          ]
        }
      ]
    },
    {
      "cell_type": "code",
      "source": [
        "# Teste da função Base()\n",
        "\n",
        "n = 3\n",
        "estados = funcao_Base(n)\n",
        "print(f\"Número de qubits = {n}. Número de circuitos: 2**{n} = {len(estados)}\")\n",
        "for estado in estados:\n",
        "    display(estado.draw())"
      ],
      "metadata": {
        "colab": {
          "base_uri": "https://localhost:8080/",
          "height": 897
        },
        "collapsed": true,
        "id": "qp2ZB5txf_RI",
        "outputId": "d212e5b8-e5e7-4c29-d6b4-fc8214934144"
      },
      "execution_count": 14,
      "outputs": [
        {
          "output_type": "stream",
          "name": "stdout",
          "text": [
            "Número de qubits = 3. Número de circuitos: 2**3 = 8\n"
          ]
        },
        {
          "output_type": "display_data",
          "data": {
            "text/plain": [
              "     \n",
              "q_0: \n",
              "     \n",
              "q_1: \n",
              "     \n",
              "q_2: \n",
              "     "
            ],
            "text/html": [
              "<pre style=\"word-wrap: normal;white-space: pre;background: #fff0;line-height: 1.1;font-family: &quot;Courier New&quot;,Courier,monospace\">     \n",
              "q_0: \n",
              "     \n",
              "q_1: \n",
              "     \n",
              "q_2: \n",
              "     </pre>"
            ]
          },
          "metadata": {}
        },
        {
          "output_type": "display_data",
          "data": {
            "text/plain": [
              "          \n",
              "q_0: ─────\n",
              "          \n",
              "q_1: ─────\n",
              "     ┌───┐\n",
              "q_2: ┤ X ├\n",
              "     └───┘"
            ],
            "text/html": [
              "<pre style=\"word-wrap: normal;white-space: pre;background: #fff0;line-height: 1.1;font-family: &quot;Courier New&quot;,Courier,monospace\">          \n",
              "q_0: ─────\n",
              "          \n",
              "q_1: ─────\n",
              "     ┌───┐\n",
              "q_2: ┤ X ├\n",
              "     └───┘</pre>"
            ]
          },
          "metadata": {}
        },
        {
          "output_type": "display_data",
          "data": {
            "text/plain": [
              "          \n",
              "q_0: ─────\n",
              "     ┌───┐\n",
              "q_1: ┤ X ├\n",
              "     └───┘\n",
              "q_2: ─────\n",
              "          "
            ],
            "text/html": [
              "<pre style=\"word-wrap: normal;white-space: pre;background: #fff0;line-height: 1.1;font-family: &quot;Courier New&quot;,Courier,monospace\">          \n",
              "q_0: ─────\n",
              "     ┌───┐\n",
              "q_1: ┤ X ├\n",
              "     └───┘\n",
              "q_2: ─────\n",
              "          </pre>"
            ]
          },
          "metadata": {}
        },
        {
          "output_type": "display_data",
          "data": {
            "text/plain": [
              "          \n",
              "q_0: ─────\n",
              "     ┌───┐\n",
              "q_1: ┤ X ├\n",
              "     ├───┤\n",
              "q_2: ┤ X ├\n",
              "     └───┘"
            ],
            "text/html": [
              "<pre style=\"word-wrap: normal;white-space: pre;background: #fff0;line-height: 1.1;font-family: &quot;Courier New&quot;,Courier,monospace\">          \n",
              "q_0: ─────\n",
              "     ┌───┐\n",
              "q_1: ┤ X ├\n",
              "     ├───┤\n",
              "q_2: ┤ X ├\n",
              "     └───┘</pre>"
            ]
          },
          "metadata": {}
        },
        {
          "output_type": "display_data",
          "data": {
            "text/plain": [
              "     ┌───┐\n",
              "q_0: ┤ X ├\n",
              "     └───┘\n",
              "q_1: ─────\n",
              "          \n",
              "q_2: ─────\n",
              "          "
            ],
            "text/html": [
              "<pre style=\"word-wrap: normal;white-space: pre;background: #fff0;line-height: 1.1;font-family: &quot;Courier New&quot;,Courier,monospace\">     ┌───┐\n",
              "q_0: ┤ X ├\n",
              "     └───┘\n",
              "q_1: ─────\n",
              "          \n",
              "q_2: ─────\n",
              "          </pre>"
            ]
          },
          "metadata": {}
        },
        {
          "output_type": "display_data",
          "data": {
            "text/plain": [
              "     ┌───┐\n",
              "q_0: ┤ X ├\n",
              "     └───┘\n",
              "q_1: ─────\n",
              "     ┌───┐\n",
              "q_2: ┤ X ├\n",
              "     └───┘"
            ],
            "text/html": [
              "<pre style=\"word-wrap: normal;white-space: pre;background: #fff0;line-height: 1.1;font-family: &quot;Courier New&quot;,Courier,monospace\">     ┌───┐\n",
              "q_0: ┤ X ├\n",
              "     └───┘\n",
              "q_1: ─────\n",
              "     ┌───┐\n",
              "q_2: ┤ X ├\n",
              "     └───┘</pre>"
            ]
          },
          "metadata": {}
        },
        {
          "output_type": "display_data",
          "data": {
            "text/plain": [
              "     ┌───┐\n",
              "q_0: ┤ X ├\n",
              "     ├───┤\n",
              "q_1: ┤ X ├\n",
              "     └───┘\n",
              "q_2: ─────\n",
              "          "
            ],
            "text/html": [
              "<pre style=\"word-wrap: normal;white-space: pre;background: #fff0;line-height: 1.1;font-family: &quot;Courier New&quot;,Courier,monospace\">     ┌───┐\n",
              "q_0: ┤ X ├\n",
              "     ├───┤\n",
              "q_1: ┤ X ├\n",
              "     └───┘\n",
              "q_2: ─────\n",
              "          </pre>"
            ]
          },
          "metadata": {}
        },
        {
          "output_type": "display_data",
          "data": {
            "text/plain": [
              "     ┌───┐\n",
              "q_0: ┤ X ├\n",
              "     ├───┤\n",
              "q_1: ┤ X ├\n",
              "     ├───┤\n",
              "q_2: ┤ X ├\n",
              "     └───┘"
            ],
            "text/html": [
              "<pre style=\"word-wrap: normal;white-space: pre;background: #fff0;line-height: 1.1;font-family: &quot;Courier New&quot;,Courier,monospace\">     ┌───┐\n",
              "q_0: ┤ X ├\n",
              "     ├───┤\n",
              "q_1: ┤ X ├\n",
              "     ├───┤\n",
              "q_2: ┤ X ├\n",
              "     └───┘</pre>"
            ]
          },
          "metadata": {}
        }
      ]
    },
    {
      "cell_type": "code",
      "source": [
        "# Teste da função EstadoBase()\n",
        "\n",
        "sequencia_exemplo = [1, 0, 1]\n",
        "estado = funcao_EstadoBase(sequencia_exemplo)\n",
        "display(estado.draw())"
      ],
      "metadata": {
        "colab": {
          "base_uri": "https://localhost:8080/",
          "height": 125
        },
        "id": "hrDeuTzehmKs",
        "outputId": "b0411f88-084e-4ade-a87c-3cd08e31fc88"
      },
      "execution_count": 15,
      "outputs": [
        {
          "output_type": "display_data",
          "data": {
            "text/plain": [
              "     ┌───┐\n",
              "q_0: ┤ X ├\n",
              "     └───┘\n",
              "q_1: ─────\n",
              "     ┌───┐\n",
              "q_2: ┤ X ├\n",
              "     └───┘"
            ],
            "text/html": [
              "<pre style=\"word-wrap: normal;white-space: pre;background: #fff0;line-height: 1.1;font-family: &quot;Courier New&quot;,Courier,monospace\">     ┌───┐\n",
              "q_0: ┤ X ├\n",
              "     └───┘\n",
              "q_1: ─────\n",
              "     ┌───┐\n",
              "q_2: ┤ X ├\n",
              "     └───┘</pre>"
            ]
          },
          "metadata": {}
        }
      ]
    },
    {
      "cell_type": "code",
      "source": [
        "# Teste da função ValorEsperado()\n",
        "\n",
        "from qiskit_ibm_runtime import QiskitRuntimeService\n",
        "\n",
        "service = QiskitRuntimeService(\n",
        "    channel=\"ibm_cloud\",\n",
        "    token=\"7zAryvcpz2cTOgAbliiOL_A4qMyxg5Vq3nuHiBs1VENt\",\n",
        "    instance=\"crn:v1:bluemix:public:quantum-computing:us-east:a/8e99d0dd96d44fd08e92d06df59c1d0a:a600aec9-e7f1-40c6-95ac-ae168bf213b5::\"\n",
        "    )\n",
        "\n",
        "## Save account to disk and save it as the default.\n",
        "#QiskitRuntimeService.save_account(channel=\"ibm_cloud\", token=\"<IBM Cloud API key>\", instance=\"<IBM Cloud CRN>\", name=\"account-name\", set_as_default=True)\n",
        "\n",
        "## Load the saved credentials\n",
        "#service = QiskitRuntimeService(name=\"account-name\")\n",
        "\n",
        "estado = QuantumCircuit(3)\n",
        "estado.x(0)\n",
        "estado.x(1)\n",
        "estado.x(2)\n",
        "\n",
        "def C(x):\n",
        "    return 2*(x[1]-1)**2 + sum(x)\n",
        "\n",
        "hamiltoniano = funcao_Hamiltoniano(3, C)\n",
        "\n",
        "\n",
        "from qiskit_ibm_runtime.fake_provider import FakeWashingtonV2\n",
        "backend = FakeWashingtonV2()\n",
        "\n",
        "valor_esperado = funcao_ValorEsperado(estado, hamiltoniano, backend)\n",
        "print(valor_esperado)"
      ],
      "metadata": {
        "id": "x9XnlThxhGRk",
        "colab": {
          "base_uri": "https://localhost:8080/"
        },
        "outputId": "c08ece50-d099-46fe-fbcb-e83012e60f59"
      },
      "execution_count": 16,
      "outputs": [
        {
          "output_type": "stream",
          "name": "stdout",
          "text": [
            "2.977783203125\n"
          ]
        }
      ]
    },
    {
      "cell_type": "code",
      "source": [
        "# Teste da função MinQCOP():\n",
        "\n",
        "from qiskit_ibm_runtime.fake_provider import FakeWashingtonV2\n",
        "backend = FakeWashingtonV2()\n",
        "\n",
        "minimix = MinQCOP(3, C, backend = backend)\n",
        "display(minimix)\n",
        "\n",
        "print(f\"Sequências minimais = {minimix[0]}\")\n",
        "print(f\"Valor esperado minimal = {minimix[1]}\")"
      ],
      "metadata": {
        "colab": {
          "base_uri": "https://localhost:8080/",
          "height": 70
        },
        "id": "l7r0s4_ReEhz",
        "outputId": "d591ac1b-643a-49df-a40e-6a0f788b133e"
      },
      "execution_count": 17,
      "outputs": [
        {
          "output_type": "display_data",
          "data": {
            "text/plain": [
              "([[0, 1, 0]], array(1.03149414))"
            ]
          },
          "metadata": {}
        },
        {
          "output_type": "stream",
          "name": "stdout",
          "text": [
            "Sequências minimais = [[0, 1, 0]]\n",
            "Valor esperado minimal = 1.031494140625\n"
          ]
        }
      ]
    }
  ]
}