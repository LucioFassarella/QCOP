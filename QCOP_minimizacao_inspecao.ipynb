{
  "nbformat": 4,
  "nbformat_minor": 0,
  "metadata": {
    "colab": {
      "provenance": [],
      "authorship_tag": "ABX9TyPTY10U2hcJPbEyMv3gem3C",
      "include_colab_link": true
    },
    "kernelspec": {
      "name": "python3",
      "display_name": "Python 3"
    },
    "language_info": {
      "name": "python"
    }
  },
  "cells": [
    {
      "cell_type": "markdown",
      "metadata": {
        "id": "view-in-github",
        "colab_type": "text"
      },
      "source": [
        "<a href=\"https://colab.research.google.com/github/LucioFassarella/QCOP/blob/main/QCOP_minimizacao_inspecao.ipynb\" target=\"_parent\"><img src=\"https://colab.research.google.com/assets/colab-badge.svg\" alt=\"Open In Colab\"/></a>"
      ]
    },
    {
      "cell_type": "markdown",
      "source": [
        "# Problemas de Otimização Combinatória\n",
        "\n",
        "Disponível em:\n",
        "*   [https://github.com/LucioFassarella/QCOP](https://github.com/LucioFassarella/QCOP)."
      ],
      "metadata": {
        "id": "Jvb04gNPnpfO"
      }
    },
    {
      "cell_type": "code",
      "execution_count": null,
      "metadata": {
        "id": "CqlQUpaPh4Lc"
      },
      "outputs": [],
      "source": [
        "def minimizar_inspecao(n = \"int\", funcao = \"funcao\"):\n",
        "    '''\n",
        "    Função que recebe um inteiro 'n, uma função real definida nos inteiros\n",
        "    entre 0 e 2**n-1 e retorna uma lista com os pontos de mínimo da função e\n",
        "    o valor mínimo da função.\n",
        "\n",
        "    Entrada:\n",
        "        n = inteiro\n",
        "        funcao = função real definida nos inteiros entre 0 e 2**n-1\n",
        "\n",
        "    Saída:\n",
        "        ponto_minimo = lista com os pontos de mínimo da função\n",
        "        minimo = valor mínimo da função\n",
        "    '''\n",
        "\n",
        "    ponto_minimo = [0]\n",
        "    minimo = funcao(0)\n",
        "    for k in range(2**n):\n",
        "        y = funcao(k)\n",
        "        if y == minimo:\n",
        "            ponto_minimo.append(k)\n",
        "        if y < minimo:\n",
        "            ponto_minimo = [k]\n",
        "            minimo = y\n",
        "    return ponto_minimo, minimo"
      ]
    },
    {
      "cell_type": "code",
      "source": [
        "# prompt: Code an algorithm to receive an integer and returns the anti-lexicographic list of its binary digits in base 2.\n",
        "\n",
        "def binario(k = 'int'):\n",
        "  \"\"\"\n",
        "  Receives an integer and returns the anti-lexicographic list of its binary digits.\n",
        "\n",
        "  Args:\n",
        "    k: An integer.\n",
        "\n",
        "  Returns:\n",
        "    A list of integers representing the binary digits of n in anti-lexicographic order.\n",
        "  \"\"\"\n",
        "  if not isinstance(k, int) or k < 0:\n",
        "    raise TypeError(\"A entrada deve ser um inteiro não-negativo\")\n",
        "\n",
        "  bits_string = bin(k)[2:]\n",
        "  bits_list = [bits_string[j] for j in range(len(bits_string))]\n",
        "  bits_list.reverse()\n",
        "  bits_string = ''.join(bits_list)\n",
        "  return bits_string\n",
        "\n",
        "def Z(n = 'int'):\n",
        "    '''\n",
        "    Gera a lista das strings de sequências binárias de tamanho n.\n",
        "\n",
        "    Entrada:\n",
        "        n = inteiro\n",
        "\n",
        "    Saída:\n",
        "       Z =  lista das strings de sequências binárias de tamanho n.\n",
        "    '''\n",
        "\n",
        "    if not isinstance(n, int) or n < 0:\n",
        "        raise TypeError(\"A entrada deve ser um inteiro não-negativo\")\n",
        "\n",
        "    Z = [binario(k) for k in range(2**n)]\n",
        "\n",
        "    return(Z)"
      ],
      "metadata": {
        "id": "TGb5gs8qkEYV"
      },
      "execution_count": null,
      "outputs": []
    },
    {
      "cell_type": "code",
      "source": [
        "# Teste\n",
        "\n",
        "def C(x):\n",
        "    return x**2 - 9*x + 14\n",
        "\n",
        "minimizacao = minimizar_inspecao(5,C)\n",
        "print(f\"Ponto(s) de mínimo: {minimizacao[0]}. Valor de mínimo: {minimizacao[1]}\")"
      ],
      "metadata": {
        "colab": {
          "base_uri": "https://localhost:8080/"
        },
        "id": "fIwkS-lgpd5f",
        "outputId": "80f5c548-e49e-40a3-fd79-a652e72e8043"
      },
      "execution_count": null,
      "outputs": [
        {
          "output_type": "stream",
          "name": "stdout",
          "text": [
            "Ponto(s) de mínimo: [4, 5]. Valor de mínimo: -6\n"
          ]
        }
      ]
    }
  ]
}