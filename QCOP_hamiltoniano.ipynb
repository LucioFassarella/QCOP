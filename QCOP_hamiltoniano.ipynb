{
  "nbformat": 4,
  "nbformat_minor": 0,
  "metadata": {
    "colab": {
      "provenance": [],
      "collapsed_sections": [
        "GAmPTeyasyVt"
      ],
      "authorship_tag": "ABX9TyNb8RRYyTrCVrPtbAmwCrJJ",
      "include_colab_link": true
    },
    "kernelspec": {
      "name": "python3",
      "display_name": "Python 3"
    },
    "language_info": {
      "name": "python"
    }
  },
  "cells": [
    {
      "cell_type": "markdown",
      "metadata": {
        "id": "view-in-github",
        "colab_type": "text"
      },
      "source": [
        "<a href=\"https://colab.research.google.com/github/LucioFassarella/QCOP/blob/main/QCOP_hamiltoniano.ipynb\" target=\"_parent\"><img src=\"https://colab.research.google.com/assets/colab-badge.svg\" alt=\"Open In Colab\"/></a>"
      ]
    },
    {
      "cell_type": "markdown",
      "source": [
        "# QISKIT: Carregamento"
      ],
      "metadata": {
        "id": "GAmPTeyasyVt"
      }
    },
    {
      "cell_type": "code",
      "source": [
        "!pip install qiskit -U\n",
        "!pip install qiskit_aer -U\n",
        "!pip install qiskit-ibm-runtime -U\n",
        "\n",
        "!pip install matplotlib\n",
        "!pip install pylatexenc\n",
        "\n",
        "import qiskit\n",
        "qiskit.__version__"
      ],
      "metadata": {
        "id": "U7ULPmZkugwv",
        "colab": {
          "base_uri": "https://localhost:8080/",
          "height": 1000
        },
        "outputId": "c7ff3d07-9854-4a81-a9ff-df1717a75912",
        "collapsed": true
      },
      "execution_count": 1,
      "outputs": [
        {
          "output_type": "stream",
          "name": "stdout",
          "text": [
            "Collecting qiskit\n",
            "  Downloading qiskit-2.1.0-cp39-abi3-manylinux_2_17_x86_64.manylinux2014_x86_64.whl.metadata (12 kB)\n",
            "Collecting rustworkx>=0.15.0 (from qiskit)\n",
            "  Downloading rustworkx-0.16.0-cp39-abi3-manylinux_2_17_x86_64.manylinux2014_x86_64.whl.metadata (10 kB)\n",
            "Requirement already satisfied: numpy<3,>=1.17 in /usr/local/lib/python3.11/dist-packages (from qiskit) (2.0.2)\n",
            "Requirement already satisfied: scipy>=1.5 in /usr/local/lib/python3.11/dist-packages (from qiskit) (1.15.3)\n",
            "Requirement already satisfied: dill>=0.3 in /usr/local/lib/python3.11/dist-packages (from qiskit) (0.3.7)\n",
            "Collecting stevedore>=3.0.0 (from qiskit)\n",
            "  Downloading stevedore-5.4.1-py3-none-any.whl.metadata (2.3 kB)\n",
            "Requirement already satisfied: typing-extensions in /usr/local/lib/python3.11/dist-packages (from qiskit) (4.14.0)\n",
            "Collecting pbr>=2.0.0 (from stevedore>=3.0.0->qiskit)\n",
            "  Downloading pbr-6.1.1-py2.py3-none-any.whl.metadata (3.4 kB)\n",
            "Requirement already satisfied: setuptools in /usr/local/lib/python3.11/dist-packages (from pbr>=2.0.0->stevedore>=3.0.0->qiskit) (75.2.0)\n",
            "Downloading qiskit-2.1.0-cp39-abi3-manylinux_2_17_x86_64.manylinux2014_x86_64.whl (7.5 MB)\n",
            "\u001b[2K   \u001b[90m━━━━━━━━━━━━━━━━━━━━━━━━━━━━━━━━━━━━━━━━\u001b[0m \u001b[32m7.5/7.5 MB\u001b[0m \u001b[31m57.2 MB/s\u001b[0m eta \u001b[36m0:00:00\u001b[0m\n",
            "\u001b[?25hDownloading rustworkx-0.16.0-cp39-abi3-manylinux_2_17_x86_64.manylinux2014_x86_64.whl (2.1 MB)\n",
            "\u001b[2K   \u001b[90m━━━━━━━━━━━━━━━━━━━━━━━━━━━━━━━━━━━━━━━━\u001b[0m \u001b[32m2.1/2.1 MB\u001b[0m \u001b[31m70.5 MB/s\u001b[0m eta \u001b[36m0:00:00\u001b[0m\n",
            "\u001b[?25hDownloading stevedore-5.4.1-py3-none-any.whl (49 kB)\n",
            "\u001b[2K   \u001b[90m━━━━━━━━━━━━━━━━━━━━━━━━━━━━━━━━━━━━━━━━\u001b[0m \u001b[32m49.5/49.5 kB\u001b[0m \u001b[31m3.5 MB/s\u001b[0m eta \u001b[36m0:00:00\u001b[0m\n",
            "\u001b[?25hDownloading pbr-6.1.1-py2.py3-none-any.whl (108 kB)\n",
            "\u001b[2K   \u001b[90m━━━━━━━━━━━━━━━━━━━━━━━━━━━━━━━━━━━━━━━━\u001b[0m \u001b[32m109.0/109.0 kB\u001b[0m \u001b[31m8.6 MB/s\u001b[0m eta \u001b[36m0:00:00\u001b[0m\n",
            "\u001b[?25hInstalling collected packages: rustworkx, pbr, stevedore, qiskit\n",
            "Successfully installed pbr-6.1.1 qiskit-2.1.0 rustworkx-0.16.0 stevedore-5.4.1\n",
            "Collecting qiskit_aer\n",
            "  Downloading qiskit_aer-0.17.1-cp311-cp311-manylinux_2_17_x86_64.manylinux2014_x86_64.whl.metadata (8.3 kB)\n",
            "Requirement already satisfied: qiskit>=1.1.0 in /usr/local/lib/python3.11/dist-packages (from qiskit_aer) (2.1.0)\n",
            "Requirement already satisfied: numpy>=1.16.3 in /usr/local/lib/python3.11/dist-packages (from qiskit_aer) (2.0.2)\n",
            "Requirement already satisfied: scipy>=1.0 in /usr/local/lib/python3.11/dist-packages (from qiskit_aer) (1.15.3)\n",
            "Requirement already satisfied: psutil>=5 in /usr/local/lib/python3.11/dist-packages (from qiskit_aer) (5.9.5)\n",
            "Requirement already satisfied: python-dateutil>=2.8.0 in /usr/local/lib/python3.11/dist-packages (from qiskit_aer) (2.9.0.post0)\n",
            "Requirement already satisfied: six>=1.5 in /usr/local/lib/python3.11/dist-packages (from python-dateutil>=2.8.0->qiskit_aer) (1.17.0)\n",
            "Requirement already satisfied: rustworkx>=0.15.0 in /usr/local/lib/python3.11/dist-packages (from qiskit>=1.1.0->qiskit_aer) (0.16.0)\n",
            "Requirement already satisfied: dill>=0.3 in /usr/local/lib/python3.11/dist-packages (from qiskit>=1.1.0->qiskit_aer) (0.3.7)\n",
            "Requirement already satisfied: stevedore>=3.0.0 in /usr/local/lib/python3.11/dist-packages (from qiskit>=1.1.0->qiskit_aer) (5.4.1)\n",
            "Requirement already satisfied: typing-extensions in /usr/local/lib/python3.11/dist-packages (from qiskit>=1.1.0->qiskit_aer) (4.14.0)\n",
            "Requirement already satisfied: pbr>=2.0.0 in /usr/local/lib/python3.11/dist-packages (from stevedore>=3.0.0->qiskit>=1.1.0->qiskit_aer) (6.1.1)\n",
            "Requirement already satisfied: setuptools in /usr/local/lib/python3.11/dist-packages (from pbr>=2.0.0->stevedore>=3.0.0->qiskit>=1.1.0->qiskit_aer) (75.2.0)\n",
            "Downloading qiskit_aer-0.17.1-cp311-cp311-manylinux_2_17_x86_64.manylinux2014_x86_64.whl (12.4 MB)\n",
            "\u001b[2K   \u001b[90m━━━━━━━━━━━━━━━━━━━━━━━━━━━━━━━━━━━━━━━━\u001b[0m \u001b[32m12.4/12.4 MB\u001b[0m \u001b[31m59.6 MB/s\u001b[0m eta \u001b[36m0:00:00\u001b[0m\n",
            "\u001b[?25hInstalling collected packages: qiskit_aer\n",
            "Successfully installed qiskit_aer-0.17.1\n",
            "Collecting qiskit-ibm-runtime\n",
            "  Downloading qiskit_ibm_runtime-0.40.1-py3-none-any.whl.metadata (21 kB)\n",
            "Requirement already satisfied: requests>=2.19 in /usr/local/lib/python3.11/dist-packages (from qiskit-ibm-runtime) (2.32.3)\n",
            "Collecting requests-ntlm>=1.1.0 (from qiskit-ibm-runtime)\n",
            "  Downloading requests_ntlm-1.3.0-py3-none-any.whl.metadata (2.4 kB)\n",
            "Requirement already satisfied: numpy>=1.13 in /usr/local/lib/python3.11/dist-packages (from qiskit-ibm-runtime) (2.0.2)\n",
            "Requirement already satisfied: urllib3>=1.21.1 in /usr/local/lib/python3.11/dist-packages (from qiskit-ibm-runtime) (2.4.0)\n",
            "Requirement already satisfied: python-dateutil>=2.8.0 in /usr/local/lib/python3.11/dist-packages (from qiskit-ibm-runtime) (2.9.0.post0)\n",
            "Collecting ibm-platform-services>=0.22.6 (from qiskit-ibm-runtime)\n",
            "  Downloading ibm_platform_services-0.66.2-py3-none-any.whl.metadata (9.0 kB)\n",
            "Requirement already satisfied: pydantic>=2.5.0 in /usr/local/lib/python3.11/dist-packages (from qiskit-ibm-runtime) (2.11.7)\n",
            "Requirement already satisfied: qiskit>=1.4.1 in /usr/local/lib/python3.11/dist-packages (from qiskit-ibm-runtime) (2.1.0)\n",
            "Requirement already satisfied: packaging in /usr/local/lib/python3.11/dist-packages (from qiskit-ibm-runtime) (24.2)\n",
            "Collecting ibm_cloud_sdk_core<4.0.0,>=3.24.2 (from ibm-platform-services>=0.22.6->qiskit-ibm-runtime)\n",
            "  Downloading ibm_cloud_sdk_core-3.24.2-py3-none-any.whl.metadata (8.7 kB)\n",
            "Requirement already satisfied: annotated-types>=0.6.0 in /usr/local/lib/python3.11/dist-packages (from pydantic>=2.5.0->qiskit-ibm-runtime) (0.7.0)\n",
            "Requirement already satisfied: pydantic-core==2.33.2 in /usr/local/lib/python3.11/dist-packages (from pydantic>=2.5.0->qiskit-ibm-runtime) (2.33.2)\n",
            "Requirement already satisfied: typing-extensions>=4.12.2 in /usr/local/lib/python3.11/dist-packages (from pydantic>=2.5.0->qiskit-ibm-runtime) (4.14.0)\n",
            "Requirement already satisfied: typing-inspection>=0.4.0 in /usr/local/lib/python3.11/dist-packages (from pydantic>=2.5.0->qiskit-ibm-runtime) (0.4.1)\n",
            "Requirement already satisfied: six>=1.5 in /usr/local/lib/python3.11/dist-packages (from python-dateutil>=2.8.0->qiskit-ibm-runtime) (1.17.0)\n",
            "Requirement already satisfied: rustworkx>=0.15.0 in /usr/local/lib/python3.11/dist-packages (from qiskit>=1.4.1->qiskit-ibm-runtime) (0.16.0)\n",
            "Requirement already satisfied: scipy>=1.5 in /usr/local/lib/python3.11/dist-packages (from qiskit>=1.4.1->qiskit-ibm-runtime) (1.15.3)\n",
            "Requirement already satisfied: dill>=0.3 in /usr/local/lib/python3.11/dist-packages (from qiskit>=1.4.1->qiskit-ibm-runtime) (0.3.7)\n",
            "Requirement already satisfied: stevedore>=3.0.0 in /usr/local/lib/python3.11/dist-packages (from qiskit>=1.4.1->qiskit-ibm-runtime) (5.4.1)\n",
            "Requirement already satisfied: charset-normalizer<4,>=2 in /usr/local/lib/python3.11/dist-packages (from requests>=2.19->qiskit-ibm-runtime) (3.4.2)\n",
            "Requirement already satisfied: idna<4,>=2.5 in /usr/local/lib/python3.11/dist-packages (from requests>=2.19->qiskit-ibm-runtime) (3.10)\n",
            "Requirement already satisfied: certifi>=2017.4.17 in /usr/local/lib/python3.11/dist-packages (from requests>=2.19->qiskit-ibm-runtime) (2025.6.15)\n",
            "Requirement already satisfied: cryptography>=1.3 in /usr/local/lib/python3.11/dist-packages (from requests-ntlm>=1.1.0->qiskit-ibm-runtime) (43.0.3)\n",
            "Collecting pyspnego>=0.4.0 (from requests-ntlm>=1.1.0->qiskit-ibm-runtime)\n",
            "  Downloading pyspnego-0.11.2-py3-none-any.whl.metadata (5.4 kB)\n",
            "Requirement already satisfied: cffi>=1.12 in /usr/local/lib/python3.11/dist-packages (from cryptography>=1.3->requests-ntlm>=1.1.0->qiskit-ibm-runtime) (1.17.1)\n",
            "Collecting requests>=2.19 (from qiskit-ibm-runtime)\n",
            "  Downloading requests-2.32.4-py3-none-any.whl.metadata (4.9 kB)\n",
            "Requirement already satisfied: PyJWT<3.0.0,>=2.10.1 in /usr/local/lib/python3.11/dist-packages (from ibm_cloud_sdk_core<4.0.0,>=3.24.2->ibm-platform-services>=0.22.6->qiskit-ibm-runtime) (2.10.1)\n",
            "Requirement already satisfied: pbr>=2.0.0 in /usr/local/lib/python3.11/dist-packages (from stevedore>=3.0.0->qiskit>=1.4.1->qiskit-ibm-runtime) (6.1.1)\n",
            "Requirement already satisfied: pycparser in /usr/local/lib/python3.11/dist-packages (from cffi>=1.12->cryptography>=1.3->requests-ntlm>=1.1.0->qiskit-ibm-runtime) (2.22)\n",
            "Requirement already satisfied: setuptools in /usr/local/lib/python3.11/dist-packages (from pbr>=2.0.0->stevedore>=3.0.0->qiskit>=1.4.1->qiskit-ibm-runtime) (75.2.0)\n",
            "Downloading qiskit_ibm_runtime-0.40.1-py3-none-any.whl (3.2 MB)\n",
            "\u001b[2K   \u001b[90m━━━━━━━━━━━━━━━━━━━━━━━━━━━━━━━━━━━━━━━━\u001b[0m \u001b[32m3.2/3.2 MB\u001b[0m \u001b[31m38.0 MB/s\u001b[0m eta \u001b[36m0:00:00\u001b[0m\n",
            "\u001b[?25hDownloading ibm_platform_services-0.66.2-py3-none-any.whl (363 kB)\n",
            "\u001b[2K   \u001b[90m━━━━━━━━━━━━━━━━━━━━━━━━━━━━━━━━━━━━━━━━\u001b[0m \u001b[32m363.9/363.9 kB\u001b[0m \u001b[31m26.8 MB/s\u001b[0m eta \u001b[36m0:00:00\u001b[0m\n",
            "\u001b[?25hDownloading requests_ntlm-1.3.0-py3-none-any.whl (6.6 kB)\n",
            "Downloading ibm_cloud_sdk_core-3.24.2-py3-none-any.whl (75 kB)\n",
            "\u001b[2K   \u001b[90m━━━━━━━━━━━━━━━━━━━━━━━━━━━━━━━━━━━━━━━━\u001b[0m \u001b[32m75.8/75.8 kB\u001b[0m \u001b[31m5.9 MB/s\u001b[0m eta \u001b[36m0:00:00\u001b[0m\n",
            "\u001b[?25hDownloading requests-2.32.4-py3-none-any.whl (64 kB)\n",
            "\u001b[2K   \u001b[90m━━━━━━━━━━━━━━━━━━━━━━━━━━━━━━━━━━━━━━━━\u001b[0m \u001b[32m64.8/64.8 kB\u001b[0m \u001b[31m5.0 MB/s\u001b[0m eta \u001b[36m0:00:00\u001b[0m\n",
            "\u001b[?25hDownloading pyspnego-0.11.2-py3-none-any.whl (130 kB)\n",
            "\u001b[2K   \u001b[90m━━━━━━━━━━━━━━━━━━━━━━━━━━━━━━━━━━━━━━━━\u001b[0m \u001b[32m130.5/130.5 kB\u001b[0m \u001b[31m11.8 MB/s\u001b[0m eta \u001b[36m0:00:00\u001b[0m\n",
            "\u001b[?25hInstalling collected packages: requests, ibm_cloud_sdk_core, pyspnego, ibm-platform-services, requests-ntlm, qiskit-ibm-runtime\n",
            "  Attempting uninstall: requests\n",
            "    Found existing installation: requests 2.32.3\n",
            "    Uninstalling requests-2.32.3:\n",
            "      Successfully uninstalled requests-2.32.3\n",
            "\u001b[31mERROR: pip's dependency resolver does not currently take into account all the packages that are installed. This behaviour is the source of the following dependency conflicts.\n",
            "google-colab 1.0.0 requires requests==2.32.3, but you have requests 2.32.4 which is incompatible.\u001b[0m\u001b[31m\n",
            "\u001b[0mSuccessfully installed ibm-platform-services-0.66.2 ibm_cloud_sdk_core-3.24.2 pyspnego-0.11.2 qiskit-ibm-runtime-0.40.1 requests-2.32.4 requests-ntlm-1.3.0\n",
            "Requirement already satisfied: matplotlib in /usr/local/lib/python3.11/dist-packages (3.10.0)\n",
            "Requirement already satisfied: contourpy>=1.0.1 in /usr/local/lib/python3.11/dist-packages (from matplotlib) (1.3.2)\n",
            "Requirement already satisfied: cycler>=0.10 in /usr/local/lib/python3.11/dist-packages (from matplotlib) (0.12.1)\n",
            "Requirement already satisfied: fonttools>=4.22.0 in /usr/local/lib/python3.11/dist-packages (from matplotlib) (4.58.4)\n",
            "Requirement already satisfied: kiwisolver>=1.3.1 in /usr/local/lib/python3.11/dist-packages (from matplotlib) (1.4.8)\n",
            "Requirement already satisfied: numpy>=1.23 in /usr/local/lib/python3.11/dist-packages (from matplotlib) (2.0.2)\n",
            "Requirement already satisfied: packaging>=20.0 in /usr/local/lib/python3.11/dist-packages (from matplotlib) (24.2)\n",
            "Requirement already satisfied: pillow>=8 in /usr/local/lib/python3.11/dist-packages (from matplotlib) (11.2.1)\n",
            "Requirement already satisfied: pyparsing>=2.3.1 in /usr/local/lib/python3.11/dist-packages (from matplotlib) (3.2.3)\n",
            "Requirement already satisfied: python-dateutil>=2.7 in /usr/local/lib/python3.11/dist-packages (from matplotlib) (2.9.0.post0)\n",
            "Requirement already satisfied: six>=1.5 in /usr/local/lib/python3.11/dist-packages (from python-dateutil>=2.7->matplotlib) (1.17.0)\n",
            "Collecting pylatexenc\n",
            "  Downloading pylatexenc-2.10.tar.gz (162 kB)\n",
            "\u001b[2K     \u001b[90m━━━━━━━━━━━━━━━━━━━━━━━━━━━━━━━━━━━━━━━\u001b[0m \u001b[32m162.6/162.6 kB\u001b[0m \u001b[31m3.7 MB/s\u001b[0m eta \u001b[36m0:00:00\u001b[0m\n",
            "\u001b[?25h  Preparing metadata (setup.py) ... \u001b[?25l\u001b[?25hdone\n",
            "Building wheels for collected packages: pylatexenc\n",
            "  Building wheel for pylatexenc (setup.py) ... \u001b[?25l\u001b[?25hdone\n",
            "  Created wheel for pylatexenc: filename=pylatexenc-2.10-py3-none-any.whl size=136817 sha256=072a0fbc250daaab3e6a0c246e8db83afae03b323a9fc73e56ce4f800ef5d2a6\n",
            "  Stored in directory: /root/.cache/pip/wheels/b1/7a/33/9fdd892f784ed4afda62b685ae3703adf4c91aa0f524c28f03\n",
            "Successfully built pylatexenc\n",
            "Installing collected packages: pylatexenc\n",
            "Successfully installed pylatexenc-2.10\n"
          ]
        },
        {
          "output_type": "execute_result",
          "data": {
            "text/plain": [
              "'2.1.0'"
            ],
            "application/vnd.google.colaboratory.intrinsic+json": {
              "type": "string"
            }
          },
          "metadata": {},
          "execution_count": 1
        }
      ]
    },
    {
      "cell_type": "code",
      "source": [
        "# Qiskit: métodos básicos\n",
        "\n",
        "from qiskit import QuantumCircuit, ClassicalRegister, QuantumRegister\n",
        "\n",
        "from qiskit import transpile\n",
        "\n",
        "from qiskit.visualization import plot_histogram, array_to_latex, plot_state_city"
      ],
      "metadata": {
        "id": "9L6AJpSGOM09"
      },
      "execution_count": 3,
      "outputs": []
    },
    {
      "cell_type": "markdown",
      "source": [
        "# Problemas de Otimização Combinatória: Hamiltoniano\n",
        "\n",
        "Espaço das sequências binárias com $n \\in \\mathbb{N}$ termos:\n",
        "\n",
        "$$\n",
        "\\mathcal{Z}(n) = \\left\\{(z_{0}, \\dots, z_{n-1});\\ z_0, \\dots, z_{n-1} \\in \\left\\{0,1\\right\\}\\right\\}.\n",
        "$$\n",
        "\n",
        "Função objetivo:\n",
        "\n",
        "$$\n",
        "C:S \\rightarrow \\mathbb{R},\\ \\ S \\subseteq \\mathcal{Z}(n).\n",
        "$$\n",
        "\n",
        "<!-- Para $z = (z_0,\\dots, z_{n-1}) \\in \\mathcal{Z}(n)$ vale:\n",
        "\n",
        "\\begin{equation*}\n",
        "\t\\begin{split}\n",
        "\t\t|z\\rangle \\langle z | &= |z_{n-1}\\rangle \\langle z_{n-1} |\\otimes \\dots \\otimes |z_0\\rangle \\langle z_0 |\\\\\n",
        "\t\t&= \\frac{I + (-1)^{z_{n-1}}Z_{n-1}}{2}\\otimes \\dots \\otimes \\frac{I + (-1)^{z_0}Z_{0}}{2}\\\\\n",
        "\t\t&= I + \\sum_{k=1}^n\\sum_{0 \\le j_1 < \\dots <j_k \\le n-1}%\n",
        "\t\t(-1)^{z_{j_1} + \\dots + z_{j_k}}Z_{j_1} \\dots Z_{j_k}.\n",
        "\t\\end{split}\n",
        "\\end{equation*}\n",
        "-->\n",
        "\n",
        "Hamiltoniano em termos dos operadores de Pauli é dada por:\n",
        "\n",
        "\\begin{equation}\n",
        "\t\\begin{split}\n",
        "\t\tH_C &= \\sum_{z \\in S}C(z)|z\\rangle \\langle z |\\\\\n",
        "\t\t&= \\frac{1}{2^n}\\sum_{z \\in S}C(z)%\n",
        "\t\t\\left\\lbrack I + \\sum_{k=0}^{n-1}\\sum_{0 \\le j_0 < \\dots <j_k \\le n-1}%\n",
        "\t\t(-1)^{z_{j_1} + \\dots + z_{j_k}}Z_{j_1} \\dots Z_{j_k}\n",
        "\t\t\\right\\rbrack.\n",
        "\t\\end{split}\n",
        "\\end{equation}"
      ],
      "metadata": {
        "id": "vyhlFq4wbdHH"
      }
    },
    {
      "cell_type": "code",
      "source": [
        "def hamiltoniano(n = \"int\", C = \"function\", S = \"None\"):\n",
        "    '''\n",
        "    Função que constrói o Hamiltoniano em termos dos operadores de Pauli.\n",
        "\n",
        "    Entrada:\n",
        "        n: tipo = inteiro: --> número de termos.\n",
        "        C: tipo = função: --> função objetivo.\n",
        "        S: tipo = lista: --> subconjunto das sequências binárias com n termos.\n",
        "\n",
        "    Saída:\n",
        "        H_C: tipo = lista --> Hamiltoniano em termos dos operadores de Pauli.\n",
        "\n",
        "    Métodos:\n",
        "        copy(): < https://docs.python.org/3/library/copy.html >\n",
        "        SparsePauliOp: < https://quantum.cloud.ibm.com/docs/en/api/qiskit/qiskit.quantum_info.SparsePauliOp >\n",
        "\n",
        "    Funções:\n",
        "        sequencias_binarias(n = \"int\"): --> lista de todas as sequências binárias com n termos.\n",
        "    '''\n",
        "\n",
        "    # Métodos\n",
        "\n",
        "    from qiskit.quantum_info import SparsePauliOp\n",
        "    from copy import deepcopy as dcopy\n",
        "\n",
        "    # Condições\n",
        "\n",
        "    # Construção de HC\n",
        "\n",
        "    if S == \"None\":\n",
        "        sequencias = sequencias_binarias(n)\n",
        "    else:\n",
        "        sequencias = dcopy(S)\n",
        "\n",
        "    for sequencia in sequencias:\n",
        "        sequencia.reverse()\n",
        "\n",
        "    indices = subsequencias(range(n))\n",
        "\n",
        "    operadores = []\n",
        "    # op = SparsePauliOp.from_sparse_list([(\"ZX\", [1, 4], 1), (\"YY\", [0, 3], 2)], num_qubits=5)\n",
        "\n",
        "    for sequencia in sequencias:\n",
        "        coeficiente = C(sequencia)/2**n\n",
        "\n",
        "        if coeficiente == 0:\n",
        "            pass\n",
        "\n",
        "        else:\n",
        "            operadores.append((\"I\", [0] , coeficiente))\n",
        "\n",
        "            for indice in indices:\n",
        "                sinal = (-1)**sum(sequencia[j] for j in indice)\n",
        "                operadores.append((len(sequencia)*\"Z\", indice , sinal*coeficiente))\n",
        "\n",
        "    H_C = SparsePauliOp.from_sparse_list(operadores, num_qubits=n)\n",
        "\n",
        "    return H_C"
      ],
      "metadata": {
        "id": "g5n4IbtaUwiI"
      },
      "execution_count": 39,
      "outputs": []
    },
    {
      "cell_type": "code",
      "source": [
        "def sequencias_binarias(n = \"int\"):\n",
        "    '''\n",
        "    Função que contrói o conjunto das sequências binárias com n termos.\n",
        "\n",
        "    Entrada:\n",
        "        n: tipo = inteiro: --> número de termos.\n",
        "\n",
        "    Saída:\n",
        "        Z_n: tipo = lista --> sequências binárias com n termos.\n",
        "\n",
        "    Métodos:\n",
        "        copy(): < https://docs.python.org/3/library/copy.html >\n",
        "    '''\n",
        "    # Métodos\n",
        "\n",
        "    from copy import deepcopy as dcopy\n",
        "\n",
        "    # Condição\n",
        "\n",
        "    if type(n) != int or n <= 0:\n",
        "        print(\"ERRO: A entrada deve ser um inteiro positivo.\")\n",
        "        return []\n",
        "\n",
        "    # Loop\n",
        "\n",
        "\n",
        "    else:\n",
        "        if n == 1:\n",
        "            Z_n = [[0], [1]]\n",
        "\n",
        "        else:\n",
        "            sequencias = sequencias_binarias(n - 1)\n",
        "            sequencias_0 = dcopy(sequencias)\n",
        "            sequencias_1 = dcopy(sequencias)\n",
        "            for sequencia in sequencias_0:\n",
        "                    sequencia.insert(0,0)\n",
        "            for sequencia in sequencias_1:\n",
        "                    sequencia.insert(0,1)\n",
        "            Z_n = sequencias_0 + sequencias_1\n",
        "        return Z_n"
      ],
      "metadata": {
        "id": "vHU0ROyuKQBC"
      },
      "execution_count": 40,
      "outputs": []
    },
    {
      "cell_type": "code",
      "source": [
        "def subsequencias(sequencia):\n",
        "    '''\n",
        "    Função que constrói todas as subsequências de uma dada sequência.\n",
        "\n",
        "    Entrada:\n",
        "        sequencia: tipo = list --> sequência\n",
        "\n",
        "    Saída:\n",
        "        lista_subsequencias = list --> lista de todas as subsequências da sequência.\n",
        "\n",
        "    Métodos:\n",
        "        intertools.combinations(): < https://docs.python.org/3/library/itertools.html >\n",
        "\n",
        "    '''\n",
        "    # Método\n",
        "\n",
        "    from itertools import combinations\n",
        "\n",
        "    # Condições:\n",
        "\n",
        "    if type(sequencia) != list:\n",
        "        print(\"ERRO: A entrada deve ser uma lista.\")\n",
        "        return []\n",
        "\n",
        "    # Loop:\n",
        "\n",
        "    sublistas = []\n",
        "    for r in range(len(sequencia) + 1):\n",
        "        r_sublistas = [list(combo) for combo in combinations(sequencia, r)]\n",
        "        sublistas.extend(r_sublistas)\n",
        "    return sublistas[1:]"
      ],
      "metadata": {
        "id": "Pnk8gTsJcDuY"
      },
      "execution_count": 45,
      "outputs": []
    },
    {
      "cell_type": "markdown",
      "source": [
        "# Testes"
      ],
      "metadata": {
        "id": "p-AKBrNcEOQr"
      }
    },
    {
      "cell_type": "code",
      "source": [
        "# Teste da função sequencias_binarias():\n",
        "\n",
        "sequencias_exemplo = sequencias_binarias(3)\n",
        "print(f\"Sequências binárias de 3 termos: {sequencias_exemplo}\")"
      ],
      "metadata": {
        "colab": {
          "base_uri": "https://localhost:8080/"
        },
        "id": "H11Q7cJ7Ex-a",
        "outputId": "854905ea-98ea-48db-a143-b736c0cce486"
      },
      "execution_count": 42,
      "outputs": [
        {
          "output_type": "stream",
          "name": "stdout",
          "text": [
            "Sequências binárias de 3 termos: [[0, 0, 0], [0, 0, 1], [0, 1, 0], [0, 1, 1], [1, 0, 0], [1, 0, 1], [1, 1, 0], [1, 1, 1]]\n"
          ]
        }
      ]
    },
    {
      "cell_type": "code",
      "source": [
        "# Teste da função subsequencias():\n",
        "\n",
        "sequencia_exemplo = [1, 2, 3]\n",
        "sub_sequencias = subsequencias(sequencia_exemplo)\n",
        "print(f\"Sequência: {sequencia_exemplo}\")\n",
        "print(f\"Subsequências: {sub_sequencias}\")"
      ],
      "metadata": {
        "colab": {
          "base_uri": "https://localhost:8080/"
        },
        "id": "phdZkrfhEPvT",
        "outputId": "468a54aa-2838-406c-d86d-d5ed2b8e1caf"
      },
      "execution_count": 46,
      "outputs": [
        {
          "output_type": "stream",
          "name": "stdout",
          "text": [
            "Sequência: [1, 2, 3]\n",
            "Subsequências: [[1], [2], [3], [1, 2], [1, 3], [2, 3], [1, 2, 3]]\n"
          ]
        }
      ]
    },
    {
      "cell_type": "code",
      "source": [
        "# Teste da função hamiltoniano():\n",
        "\n",
        "def C(x):\n",
        "    return sum(x)\n",
        "\n",
        "S = sequencias_binarias(3)\n",
        "H = hamiltoniano(3, C)\n",
        "print(H)"
      ],
      "metadata": {
        "colab": {
          "base_uri": "https://localhost:8080/"
        },
        "id": "5JkixXRkEo-i",
        "outputId": "b50cf71f-645e-427f-b6ed-585a8c2f8b9e"
      },
      "execution_count": 44,
      "outputs": [
        {
          "output_type": "stream",
          "name": "stdout",
          "text": [
            "SparsePauliOp(['III', 'IIZ', 'IZI', 'ZII', 'IZZ', 'ZIZ', 'ZZI', 'ZZZ', 'III', 'IIZ', 'IZI', 'ZII', 'IZZ', 'ZIZ', 'ZZI', 'ZZZ', 'III', 'IIZ', 'IZI', 'ZII', 'IZZ', 'ZIZ', 'ZZI', 'ZZZ', 'III', 'IIZ', 'IZI', 'ZII', 'IZZ', 'ZIZ', 'ZZI', 'ZZZ', 'III', 'IIZ', 'IZI', 'ZII', 'IZZ', 'ZIZ', 'ZZI', 'ZZZ', 'III', 'IIZ', 'IZI', 'ZII', 'IZZ', 'ZIZ', 'ZZI', 'ZZZ', 'III', 'IIZ', 'IZI', 'ZII', 'IZZ', 'ZIZ', 'ZZI', 'ZZZ'],\n",
            "              coeffs=[ 0.125+0.j, -0.125+0.j,  0.125+0.j,  0.125+0.j, -0.125+0.j, -0.125+0.j,\n",
            "  0.125+0.j, -0.125+0.j,  0.125+0.j,  0.125+0.j, -0.125+0.j,  0.125+0.j,\n",
            " -0.125+0.j,  0.125+0.j, -0.125+0.j, -0.125+0.j,  0.25 +0.j, -0.25 +0.j,\n",
            " -0.25 +0.j,  0.25 +0.j,  0.25 +0.j, -0.25 +0.j, -0.25 +0.j,  0.25 +0.j,\n",
            "  0.125+0.j,  0.125+0.j,  0.125+0.j, -0.125+0.j,  0.125+0.j, -0.125+0.j,\n",
            " -0.125+0.j, -0.125+0.j,  0.25 +0.j, -0.25 +0.j,  0.25 +0.j, -0.25 +0.j,\n",
            " -0.25 +0.j,  0.25 +0.j, -0.25 +0.j,  0.25 +0.j,  0.25 +0.j,  0.25 +0.j,\n",
            " -0.25 +0.j, -0.25 +0.j, -0.25 +0.j, -0.25 +0.j,  0.25 +0.j,  0.25 +0.j,\n",
            "  0.375+0.j, -0.375+0.j, -0.375+0.j, -0.375+0.j,  0.375+0.j,  0.375+0.j,\n",
            "  0.375+0.j, -0.375+0.j])\n"
          ]
        }
      ]
    }
  ]
}